{
 "cells": [
  {
   "cell_type": "markdown",
   "metadata": {},
   "source": [
    "# Notebook Template\n",
    "\n",
    "This Notebook is stubbed out with some project paths, loading of enviroment variables, and common package imports to speed up the process of starting a new project.\n",
    "\n",
    "It is highly recommended you copy and rename this notebook following the naming convention outlined in the readme of naming notebooks with a double number such as `01_first_thing`, and `02_next_thing`. This way the order of notebooks is apparent, and each notebook does not need to be needlesssly long, complex, and difficult to follow."
   ]
  },
  {
   "cell_type": "code",
   "execution_count": 1,
   "metadata": {},
   "outputs": [
    {
     "data": {
      "text/plain": [
       "True"
      ]
     },
     "execution_count": 1,
     "metadata": {},
     "output_type": "execute_result"
    }
   ],
   "source": [
    "import importlib\n",
    "import os\n",
    "from pathlib import Path\n",
    "import sys\n",
    "\n",
    "from arcgis.features import GeoAccessor, GeoSeriesAccessor\n",
    "from arcgis.gis import GIS\n",
    "from dotenv import load_dotenv, find_dotenv\n",
    "import pandas as pd\n",
    "\n",
    "# import arcpy if available\n",
    "if importlib.util.find_spec(\"arcpy\") is not None:\n",
    "    import arcpy\n",
    "    \n",
    "# load environment variables from .env\n",
    "load_dotenv(find_dotenv())"
   ]
  },
  {
   "cell_type": "code",
   "execution_count": 2,
   "metadata": {},
   "outputs": [],
   "source": [
    "# create a GIS object instance; if you did not enter any information here, it defaults to anonymous access to ArcGIS Online\n",
    "gis = GIS(\n",
    "    url=os.getenv('ESRI_GIS_URL'), \n",
    "    username=os.getenv('ESRI_GIS_USERNAME'),\n",
    "    password=os.getenv('ESRI_GIS_PASSWORD')\n",
    ")\n",
    "\n",
    "# paths to common data locations - NOTE: to convert any path to a raw string, simply use str(path_instance)\n",
    "project_parent = Path('./').absolute().parent\n",
    "\n",
    "data_dir = project_parent/'data'\n",
    "\n",
    "data_raw = data_dir/'raw'\n",
    "data_ext = data_dir/'external'\n",
    "data_int = data_dir/'interim'\n",
    "data_out = data_dir/'processed'\n",
    "\n",
    "gdb_raw = data_raw/'raw.gdb'\n",
    "gdb_int = data_int/'interim.gdb'\n",
    "gdb_out = data_out/'processed.gdb'\n",
    "\n",
    "# import the project package from the project package path\n",
    "sys.path.append(str(project_parent/'src'))\n",
    "import netx_hydro\n",
    "\n",
    "# load the \"autoreload\" extension so that code can change, & always reload modules so that as you change code in src, it gets loaded\n",
    "%load_ext autoreload\n",
    "%autoreload 2"
   ]
  },
  {
   "cell_type": "code",
   "execution_count": 87,
   "metadata": {},
   "outputs": [],
   "source": [
    "import networkx as nx\n",
    "from osgeo import ogr\n",
    "import json"
   ]
  },
  {
   "cell_type": "code",
   "execution_count": 4,
   "metadata": {},
   "outputs": [
    {
     "data": {
      "text/plain": [
       "True"
      ]
     },
     "execution_count": 4,
     "metadata": {},
     "output_type": "execute_result"
    }
   ],
   "source": [
    "flowline_pth = data_raw/'nhd_flowline.shp'\n",
    "flowline_pth.exists()"
   ]
  },
  {
   "cell_type": "code",
   "execution_count": 5,
   "metadata": {},
   "outputs": [
    {
     "data": {
      "text/plain": [
       "<networkx.classes.digraph.DiGraph at 0x256dcb38dd8>"
      ]
     },
     "execution_count": 5,
     "metadata": {},
     "output_type": "execute_result"
    }
   ],
   "source": [
    "net = nx.DiGraph()\n",
    "net"
   ]
  },
  {
   "cell_type": "code",
   "execution_count": 6,
   "metadata": {},
   "outputs": [
    {
     "data": {
      "text/plain": [
       "<osgeo.ogr.DataSource; proxy of <Swig Object of type 'OGRDataSourceShadow *' at 0x00000256D8156E10> >"
      ]
     },
     "execution_count": 6,
     "metadata": {},
     "output_type": "execute_result"
    }
   ],
   "source": [
    "shp = ogr.Open(str(flowline_pth))\n",
    "shp"
   ]
  },
  {
   "cell_type": "code",
   "execution_count": 7,
   "metadata": {},
   "outputs": [],
   "source": [
    "lyr = shp[0]"
   ]
  },
  {
   "cell_type": "code",
   "execution_count": 8,
   "metadata": {},
   "outputs": [
    {
     "name": "stdout",
     "output_type": "stream",
     "text": [
      "['Permanent_', 'FDate', 'Resolution', 'GNIS_ID', 'GNIS_Name', 'LengthKM', 'ReachCode', 'FlowDir', 'WBArea_Per', 'FType', 'FCode', 'MainPath', 'InNetwork', 'Visibility', 'Shape_Leng', 'NHDPlusID', 'VPUID', 'Enabled']\n"
     ]
    }
   ],
   "source": [
    "fields = [fld.GetName() for fld in lyr.schema]\n",
    "print(fields)"
   ]
  },
  {
   "cell_type": "code",
   "execution_count": 65,
   "metadata": {},
   "outputs": [
    {
     "data": {
      "text/plain": [
       "<osgeo.ogr.Feature; proxy of <Swig Object of type 'OGRFeatureShadow *' at 0x00000256E6BC8BD0> >"
      ]
     },
     "execution_count": 65,
     "metadata": {},
     "output_type": "execute_result"
    }
   ],
   "source": [
    "f = lyr[0]\n",
    "f"
   ]
  },
  {
   "cell_type": "code",
   "execution_count": 66,
   "metadata": {},
   "outputs": [
    {
     "name": "stdout",
     "output_type": "stream",
     "text": [
      "['163811014', '2012/02/22', 2, None, None, 0.71, '17080005034043', 1, None, 460, 46003, 0, 1, 0, 0.00852547050701, 55000300304600.0, '1708', 1]\n"
     ]
    }
   ],
   "source": [
    "flddata = [f.GetField(f.GetFieldIndex(x)) for x in fields]\n",
    "print(flddata)"
   ]
  },
  {
   "cell_type": "code",
   "execution_count": 67,
   "metadata": {},
   "outputs": [
    {
     "data": {
      "text/plain": [
       "{'Permanent_': '163811014',\n",
       " 'FDate': '2012/02/22',\n",
       " 'Resolution': 2,\n",
       " 'GNIS_ID': None,\n",
       " 'GNIS_Name': None,\n",
       " 'LengthKM': 0.71,\n",
       " 'ReachCode': '17080005034043',\n",
       " 'FlowDir': 1,\n",
       " 'WBArea_Per': None,\n",
       " 'FType': 460,\n",
       " 'FCode': 46003,\n",
       " 'MainPath': 0,\n",
       " 'InNetwork': 1,\n",
       " 'Visibility': 0,\n",
       " 'Shape_Leng': 0.00852547050701,\n",
       " 'NHDPlusID': 55000300304600.0,\n",
       " 'VPUID': '1708',\n",
       " 'Enabled': 1}"
      ]
     },
     "execution_count": 67,
     "metadata": {},
     "output_type": "execute_result"
    }
   ],
   "source": [
    "attributes = dict(zip(fields, flddata))\n",
    "attributes"
   ]
  },
  {
   "cell_type": "code",
   "execution_count": 76,
   "metadata": {},
   "outputs": [
    {
     "data": {
      "text/plain": [
       "{'Permanent_': '163811014',\n",
       " 'FDate': '2012/02/22',\n",
       " 'Resolution': 2,\n",
       " 'GNIS_ID': None,\n",
       " 'GNIS_Name': None,\n",
       " 'LengthKM': 0.71,\n",
       " 'ReachCode': '17080005034043',\n",
       " 'FlowDir': 1,\n",
       " 'WBArea_Per': None,\n",
       " 'FType': 460,\n",
       " 'FCode': 46003,\n",
       " 'MainPath': 0,\n",
       " 'InNetwork': 1,\n",
       " 'Visibility': 0,\n",
       " 'Shape_Leng': 0.00852547050701,\n",
       " 'NHDPlusID': 55000300304600.0,\n",
       " 'VPUID': '1708',\n",
       " 'Enabled': 1,\n",
       " 'ShpName': 'nhd_flowline'}"
      ]
     },
     "execution_count": 76,
     "metadata": {},
     "output_type": "execute_result"
    }
   ],
   "source": [
    "attributes['ShpName'] = lyr.GetName()\n",
    "attributes"
   ]
  },
  {
   "cell_type": "code",
   "execution_count": 77,
   "metadata": {},
   "outputs": [
    {
     "data": {
      "text/plain": [
       "<osgeo.ogr.Geometry; proxy of <Swig Object of type 'OGRGeometryShadow *' at 0x00000256E65EEBA0> >"
      ]
     },
     "execution_count": 77,
     "metadata": {},
     "output_type": "execute_result"
    }
   ],
   "source": [
    "g = f.geometry()\n",
    "g"
   ]
  },
  {
   "cell_type": "code",
   "execution_count": 79,
   "metadata": {},
   "outputs": [
    {
     "ename": "SyntaxError",
     "evalue": "invalid syntax (<ipython-input-79-baefe9d1c61c>, line 1)",
     "output_type": "error",
     "traceback": [
      "\u001b[1;36m  File \u001b[1;32m\"<ipython-input-79-baefe9d1c61c>\"\u001b[1;36m, line \u001b[1;32m1\u001b[0m\n\u001b[1;33m    ((g.GetPoint_2D(0)), **attributes)\u001b[0m\n\u001b[1;37m                          ^\u001b[0m\n\u001b[1;31mSyntaxError\u001b[0m\u001b[1;31m:\u001b[0m invalid syntax\n"
     ]
    }
   ],
   "source": []
  },
  {
   "cell_type": "code",
   "execution_count": 20,
   "metadata": {},
   "outputs": [
    {
     "data": {
      "text/plain": [
       "True"
      ]
     },
     "execution_count": 20,
     "metadata": {},
     "output_type": "execute_result"
    }
   ],
   "source": [
    "nhdflowline_fc_pth = str(data_raw/'NHDPLUS_H_1708_HU4_GDB.gdb'/'Hydrography'/'NHDFlowline')\n",
    "arcpy.Exists(nhdflowline_fc_pth)"
   ]
  },
  {
   "cell_type": "code",
   "execution_count": 60,
   "metadata": {},
   "outputs": [
    {
     "name": "stdout",
     "output_type": "stream",
     "text": [
      "['Permanent_Identifier', 'FDate', 'Resolution', 'GNIS_ID', 'GNIS_Name', 'LengthKM', 'ReachCode', 'FlowDir', 'WBArea_Permanent_Identifier', 'FType', 'FCode', 'MainPath', 'InNetwork', 'VisibilityFilter', 'Shape_Length', 'NHDPlusID', 'VPUID', 'Enabled']\n"
     ]
    }
   ],
   "source": [
    "field_name_lst = [fld.name for fld in arcpy.ListFields(nhdflowline_fc_pth) \n",
    "                  if fld.name != desc.shapeFieldName \n",
    "                  and fld.name != desc.OIDFieldName]\n",
    "\n",
    "print(field_name_lst)"
   ]
  },
  {
   "cell_type": "code",
   "execution_count": 61,
   "metadata": {},
   "outputs": [
    {
     "name": "stdout",
     "output_type": "stream",
     "text": [
      "('163811014', datetime.datetime(2012, 2, 22, 23, 31, 19), 2, None, None, 0.71, '17080005034043', 1, None, 460, 46003, 0, 1, 0, 0.008525470507011646, 55000300304572.0, '1708', 1, <Polyline object at 0x256e70560f0[0x256ed1931e8]>)\n"
     ]
    }
   ],
   "source": [
    "with arcpy.da.SearchCursor(nhdflowline_fc_pth, cur_fld_lst) as cur:\n",
    "    for feat in cur:\n",
    "        print(feat)\n",
    "        break"
   ]
  },
  {
   "cell_type": "code",
   "execution_count": 64,
   "metadata": {},
   "outputs": [
    {
     "data": {
      "image/svg+xml": [
       "<svg xmlns=\"http://www.w3.org/2000/svg\" xmlns:xlink=\"http://www.w3.org/1999/xlink\" width=\"100.0\" height=\"100.0\" viewBox=\"-122.4272330937421 46.28096162149606 0.008374679986999922 0.003330946661492362\" preserveAspectRatio=\"xMinYMin meet\"><g transform=\"matrix(1,0,0,-1,0,92.56525418965361)\"><g><polyline fill=\"none\" stroke=\"#66cc99\" stroke-width=\"0.00016749359973999844\" points=\"-122.42692292040925,46.28127179482891 -122.4267599204095,46.28133566149546 -122.42656785374311,46.281414061495354 -122.42599905374402,46.2816087281617 -122.42548172041148,46.28169459482825 -122.42502598707887,46.281697594828245 -122.42360078708106,46.28192592816123 -122.42347905374794,46.2819255948279 -122.42279878708229,46.28195812816119 -122.42253225374941,46.282001728161106 -122.42234285374968,46.282126528160916 -122.4221869204166,46.28227872816069 -122.42200832041686,46.28240386149383 -122.42158452041753,46.282617928160164 -122.42141765375112,46.282733928159985 -122.42136178708455,46.28280566149317 -122.42130592041798,46.28285039482648 -122.42116132041815,46.28301166149288 -122.42096052041848,46.28318172815926 -122.42080425375207,46.28337879482564 -122.42054945375247,46.28355766149201 -122.42018665375303,46.28373586149178 -122.41963565375386,46.28373292815843 -122.41946752042082,46.28375912815841 -122.41933505375437,46.28387539482486 -122.41916858708794,46.283982394824704\" opacity=\"0.8\" /></g></g></svg>"
      ],
      "text/plain": [
       "<Polyline object at 0x256e70560f0[0x256ed1931e8]>"
      ]
     },
     "execution_count": 64,
     "metadata": {},
     "output_type": "execute_result"
    }
   ],
   "source": [
    "geom = feat[-1]\n",
    "geom"
   ]
  },
  {
   "cell_type": "code",
   "execution_count": 97,
   "metadata": {},
   "outputs": [
    {
     "ename": "TypeError",
     "evalue": "in method 'new_Geometry', argument 1 of type 'OGRwkbGeometryType'",
     "output_type": "error",
     "traceback": [
      "\u001b[1;31m---------------------------------------------------------------------------\u001b[0m",
      "\u001b[1;31mTypeError\u001b[0m                                 Traceback (most recent call last)",
      "\u001b[1;32m<ipython-input-97-1b086d52c485>\u001b[0m in \u001b[0;36m<module>\u001b[1;34m\u001b[0m\n\u001b[1;32m----> 1\u001b[1;33m \u001b[0mogr\u001b[0m\u001b[1;33m.\u001b[0m\u001b[0mGeometry\u001b[0m\u001b[1;33m(\u001b[0m\u001b[0mgeom\u001b[0m\u001b[1;33m.\u001b[0m\u001b[0mWKB\u001b[0m\u001b[1;33m)\u001b[0m\u001b[1;33m\u001b[0m\u001b[1;33m\u001b[0m\u001b[0m\n\u001b[0m",
      "\u001b[1;32mC:\\Program Files\\ArcGIS\\Pro\\bin\\Python\\envs\\netx-hydro\\lib\\site-packages\\osgeo\\ogr.py\u001b[0m in \u001b[0;36m__init__\u001b[1;34m(self, *args, **kwargs)\u001b[0m\n\u001b[0;32m   5505\u001b[0m     \u001b[1;32mdef\u001b[0m \u001b[0m__init__\u001b[0m\u001b[1;33m(\u001b[0m\u001b[0mself\u001b[0m\u001b[1;33m,\u001b[0m \u001b[1;33m*\u001b[0m\u001b[0margs\u001b[0m\u001b[1;33m,\u001b[0m \u001b[1;33m**\u001b[0m\u001b[0mkwargs\u001b[0m\u001b[1;33m)\u001b[0m\u001b[1;33m:\u001b[0m\u001b[1;33m\u001b[0m\u001b[1;33m\u001b[0m\u001b[0m\n\u001b[0;32m   5506\u001b[0m         \u001b[1;34mr\"\"\"__init__(Geometry self, OGRwkbGeometryType type=wkbUnknown, char * wkt=None, int wkb=0, char * gml=None) -> Geometry\"\"\"\u001b[0m\u001b[1;33m\u001b[0m\u001b[1;33m\u001b[0m\u001b[0m\n\u001b[1;32m-> 5507\u001b[1;33m         \u001b[0m_ogr\u001b[0m\u001b[1;33m.\u001b[0m\u001b[0mGeometry_swiginit\u001b[0m\u001b[1;33m(\u001b[0m\u001b[0mself\u001b[0m\u001b[1;33m,\u001b[0m \u001b[0m_ogr\u001b[0m\u001b[1;33m.\u001b[0m\u001b[0mnew_Geometry\u001b[0m\u001b[1;33m(\u001b[0m\u001b[1;33m*\u001b[0m\u001b[0margs\u001b[0m\u001b[1;33m,\u001b[0m \u001b[1;33m**\u001b[0m\u001b[0mkwargs\u001b[0m\u001b[1;33m)\u001b[0m\u001b[1;33m)\u001b[0m\u001b[1;33m\u001b[0m\u001b[1;33m\u001b[0m\u001b[0m\n\u001b[0m\u001b[0;32m   5508\u001b[0m \u001b[1;33m\u001b[0m\u001b[0m\n\u001b[0;32m   5509\u001b[0m     \u001b[1;32mdef\u001b[0m \u001b[0mExportToWkt\u001b[0m\u001b[1;33m(\u001b[0m\u001b[0mself\u001b[0m\u001b[1;33m,\u001b[0m \u001b[1;33m*\u001b[0m\u001b[0margs\u001b[0m\u001b[1;33m)\u001b[0m\u001b[1;33m:\u001b[0m\u001b[1;33m\u001b[0m\u001b[1;33m\u001b[0m\u001b[0m\n",
      "\u001b[1;31mTypeError\u001b[0m: in method 'new_Geometry', argument 1 of type 'OGRwkbGeometryType'"
     ]
    }
   ],
   "source": [
    "ogr.Geometry()"
   ]
  },
  {
   "cell_type": "code",
   "execution_count": 32,
   "metadata": {},
   "outputs": [
    {
     "name": "stdout",
     "output_type": "stream",
     "text": [
      "polyline\n"
     ]
    }
   ],
   "source": [
    "geom_type = arcpy.Describe(nhdflowline_fc_pth).shapeType\n",
    "if geom.type == 'point':\n",
    "    net.addNode((geom.centroid.X, geom.centroid.Y), **attributes)\n",
    "elif geom.type == 'polyline':\n",
    "    print('polyline')\n",
    "else:\n",
    "    raise Exception(f'Geometry type {geom_type} is not a supported geometry for a NetX Graph.')"
   ]
  },
  {
   "cell_type": "code",
   "execution_count": 106,
   "metadata": {},
   "outputs": [],
   "source": [
    "paths = json.loads(geom.JSON)['paths']\n",
    "path = paths[0]\n",
    "\n",
    "pt1 = ogr.Geometry(ogr.wkbPoint)"
   ]
  },
  {
   "cell_type": "code",
   "execution_count": 107,
   "metadata": {},
   "outputs": [
    {
     "data": {
      "text/plain": [
       "'polyline'"
      ]
     },
     "execution_count": 107,
     "metadata": {},
     "output_type": "execute_result"
    }
   ],
   "source": [
    "geom.type"
   ]
  },
  {
   "cell_type": "code",
   "execution_count": null,
   "metadata": {},
   "outputs": [],
   "source": [
    "def edges_from_esri_paths(paths, attrs, simplify=True, geom_attrs=True):\n",
    "    \"\"\"\n",
    "    Generate edges for each line in geom\n",
    "    Written as a helper for read_fgdb_fc\n",
    "    Parameters\n",
    "    ----------\n",
    "    paths:  paths object from Esri line geometry\n",
    "        To be converted into an edge or edges\n",
    "    attrs:  dict\n",
    "        Attributes to be associated with all geoms\n",
    "    simplify:  bool\n",
    "        If True, simplify the line as in read_shp\n",
    "    geom_attrs:  bool\n",
    "        If True, add geom attributes to edge as in read_shp\n",
    "    Returns\n",
    "    -------\n",
    "     edges:  generator of edges\n",
    "        each edge is a tuple of form\n",
    "        (node1_coord, node2_coord, attribute_dict)\n",
    "        suitable for expanding into a networkx Graph add_edge call\n",
    "    \"\"\"\n",
    "    # if not multiline\n",
    "    if len(paths) == 1:\n",
    "        \n",
    "        # extract the path\n",
    "        path = path[0]\n",
    "        \n",
    "        # get the edge attributes \n",
    "        edge_attrs = attrs.copy()\n",
    "        \n",
    "        # if simplifying the line\n",
    "        if simplify:\n",
    "            \n",
    "            # create an ogr geometry object to work with\n",
    "            segment = ogr.Geometry(ogr.wkbLineString)\n",
    "            \n",
    "            # add the first and last verticies to the segment\n",
    "            segment.AddPoint_2D(path[0][:2])\n",
    "            segment.AddPoint_2D(path[-1][:2])\n",
    "            \n",
    "            # if geometry attributes are being added, tack them on\n",
    "            if geom_attrs:\n",
    "                edge_attrs[\"Wkb\"] = segment.ExportToWkb()\n",
    "                edge_attrs[\"Wkt\"] = segment.ExportToWkt()\n",
    "                edge_attrs[\"Json\"] = segment.ExportToJson()\n",
    "                \n",
    "            yield (segment.GetPoint_2D(0), segment.GetPoint_2D(1), edge_attrs)\n",
    "            \n",
    "        # if not simplifying\n",
    "        else:\n",
    "            \n",
    "            # start iterating the vertex pair segments\n",
    "            for i in range(len(path) - 1):\n",
    "                \n",
    "                # create an ogr geometry object to work with\n",
    "                segment = ogr.Geometry(ogr.wkbLineString)\n",
    "\n",
    "                # add the current and next verticies to the segment\n",
    "                segment.AddPoint_2D(path[i][:2])\n",
    "                segment.AddPoint_2D(path[i+1][:2])\n",
    "\n",
    "                # if geometry attributes are being added, tack them on\n",
    "                if geom_attrs:\n",
    "                    edge_attrs[\"Wkb\"] = segment.ExportToWkb()\n",
    "                    edge_attrs[\"Wkt\"] = segment.ExportToWkt()\n",
    "                    edge_attrs[\"Json\"] = segment.ExportToJson()\n",
    "\n",
    "                yield (segment.GetPoint_2D(0), segment.GetPoint_2D(1), edge_attrs)\n",
    "        \n",
    "    # if multiline\n",
    "    elif len(paths) > 1:\n",
    "        \n",
    "        # for every path in paths (representing continuous line segment)\n",
    "        for i in range(len(paths)):\n",
    "            \n",
    "            # rip out the single ring for this iteration\n",
    "            path_i = paths[i]\n",
    "            \n",
    "            # make it even more confusing to generate to this generator - yeah\n",
    "            yeild from edges_from_esri_paths(path_i, attrs, simplify, geom_attrs)"
   ]
  }
 ],
 "metadata": {
  "kernelspec": {
   "display_name": "Python 3",
   "language": "python",
   "name": "python3"
  },
  "language_info": {
   "codemirror_mode": {
    "name": "ipython",
    "version": 3
   },
   "file_extension": ".py",
   "mimetype": "text/x-python",
   "name": "python",
   "nbconvert_exporter": "python",
   "pygments_lexer": "ipython3",
   "version": "3.6.9"
  }
 },
 "nbformat": 4,
 "nbformat_minor": 4
}
