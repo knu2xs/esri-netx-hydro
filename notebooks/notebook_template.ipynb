{
 "cells": [
  {
   "cell_type": "markdown",
   "metadata": {},
   "source": [
    "# Notebook Template\n",
    "\n",
    "This Notebook is stubbed out with some project paths, loading of enviroment variables, and common package imports to speed up the process of starting a new project.\n",
    "\n",
    "It is highly recommended you copy and rename this notebook following the naming convention outlined in the readme of naming notebooks with a double number such as `01_first_thing`, and `02_next_thing`. This way the order of notebooks is apparent, and each notebook does not need to be needlesssly long, complex, and difficult to follow."
   ]
  },
  {
   "cell_type": "code",
   "execution_count": null,
   "metadata": {},
   "outputs": [],
   "source": [
    "import importlib\n",
    "import os\n",
    "from pathlib import Path\n",
    "import sys\n",
    "\n",
    "from arcgis.features import GeoAccessor, GeoSeriesAccessor\n",
    "from arcgis.gis import GIS\n",
    "from dotenv import load_dotenv, find_dotenv\n",
    "import pandas as pd\n",
    "\n",
    "# import arcpy if available\n",
    "if importlib.util.find_spec(\"arcpy\") is not None:\n",
    "    import arcpy\n",
    "    \n",
    "# load environment variables from .env\n",
    "load_dotenv(find_dotenv())"
   ]
  },
  {
   "cell_type": "code",
   "execution_count": null,
   "metadata": {},
   "outputs": [],
   "source": [
    "# create a GIS object instance; if you did not enter any information here, it defaults to anonymous access to ArcGIS Online\n",
    "gis = GIS(\n",
    "    url=os.getenv('ESRI_GIS_URL'), \n",
    "    username=os.getenv('ESRI_GIS_USERNAME'),\n",
    "    password=os.getenv('ESRI_GIS_PASSWORD')\n",
    ")\n",
    "\n",
    "# paths to common data locations - NOTE: to convert any path to a raw string, simply use str(path_instance)\n",
    "project_parent = Path('./').absolute().parent\n",
    "\n",
    "data_dir = project_parent/'data'\n",
    "\n",
    "data_raw = data_dir/'raw'\n",
    "data_ext = data_dir/'external'\n",
    "data_int = data_dir/'interim'\n",
    "data_out = data_dir/'processed'\n",
    "\n",
    "gdb_raw = data_raw/'raw.gdb'\n",
    "gdb_int = data_int/'interim.gdb'\n",
    "gdb_out = data_out/'processed.gdb'\n",
    "\n",
    "# import the project package from the project package path\n",
    "sys.path.append(str(project_parent/'src'))\n",
    "import netx_hydro\n",
    "\n",
    "# load the \"autoreload\" extension so that code can change, & always reload modules so that as you change code in src, it gets loaded\n",
    "%load_ext autoreload\n",
    "%autoreload 2"
   ]
  },
  {
   "cell_type": "markdown",
   "metadata": {},
   "source": [
    "Licensing\n",
    "\n",
    "Copyright 2020 Esri\n",
    "\n",
    "Licensed under the Apache License, Version 2.0 (the \"License\"); You\n",
    "may not use this file except in compliance with the License. You may\n",
    "obtain a copy of the License at\n",
    "\n",
    "http://www.apache.org/licenses/LICENSE-2.0\n",
    "\n",
    "Unless required by applicable law or agreed to in writing, software\n",
    "distributed under the License is distributed on an \"AS IS\" BASIS,\n",
    "WITHOUT WARRANTIES OR CONDITIONS OF ANY KIND, either express or\n",
    "implied. See the License for the specific language governing\n",
    "permissions and limitations under the License.\n",
    "\n",
    "A copy of the license is available in the repository's\n",
    "LICENSE file."
   ]
  },
  {
   "cell_type": "code",
   "execution_count": null,
   "metadata": {},
   "outputs": [],
   "source": []
  }
 ],
 "metadata": {
  "kernelspec": {
   "display_name": "Python 3",
   "language": "python",
   "name": "python3"
  },
  "language_info": {
   "codemirror_mode": {
    "name": "ipython",
    "version": 3
   },
   "file_extension": ".py",
   "mimetype": "text/x-python",
   "name": "python",
   "nbconvert_exporter": "python",
   "pygments_lexer": "ipython3",
   "version": "3.7.3"
  }
 },
 "nbformat": 4,
 "nbformat_minor": 4
}